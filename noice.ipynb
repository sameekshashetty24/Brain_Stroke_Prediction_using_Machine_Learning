{
 "cells": [
  {
   "cell_type": "code",
   "execution_count": 8,
   "id": "6cfd101d-2b21-424f-b243-92f8ae0db7ee",
   "metadata": {},
   "outputs": [
    {
     "name": "stdout",
     "output_type": "stream",
     "text": [
      "Accuracy: 0.9383561643835616\n",
      "Confusion Matrix:\n",
      " [[959   1]\n",
      " [ 62   0]]\n",
      "Classification Report:\n",
      "               precision    recall  f1-score   support\n",
      "\n",
      "           0       0.94      1.00      0.97       960\n",
      "           1       0.00      0.00      0.00        62\n",
      "\n",
      "    accuracy                           0.94      1022\n",
      "   macro avg       0.47      0.50      0.48      1022\n",
      "weighted avg       0.88      0.94      0.91      1022\n",
      "\n"
     ]
    }
   ],
   "source": [
    "# Import necessary libraries\n",
    "import pandas as pd\n",
    "from sklearn.model_selection import train_test_split\n",
    "from sklearn.preprocessing import LabelEncoder\n",
    "from sklearn.ensemble import RandomForestClassifier\n",
    "from sklearn.metrics import accuracy_score, confusion_matrix, classification_report\n",
    "import pickle\n",
    "\n",
    "# Load your dataset\n",
    "df = pd.read_csv('healthcare-dataset-stroke-data.csv')\n",
    "\n",
    "# Handle missing values and other data cleaning steps\n",
    "df['bmi'].fillna(df['bmi'].mean(), inplace=True)\n",
    "df.drop_duplicates(inplace=True)\n",
    "\n",
    "# Convert categorical features to numerical\n",
    "categorical_features = ['gender', 'ever_married', 'work_type', 'Residence_type', 'smoking_status']\n",
    "label_encoders = {}\n",
    "for feature in categorical_features:\n",
    "    le = LabelEncoder()\n",
    "    df[feature] = le.fit_transform(df[feature])\n",
    "    label_encoders[feature] = le\n",
    "\n",
    "# Define features and target\n",
    "features = ['gender', 'age', 'hypertension', 'heart_disease', 'ever_married', \n",
    "            'work_type', 'Residence_type', 'avg_glucose_level', 'bmi', 'smoking_status']\n",
    "target = 'stroke'\n",
    "X = df[features]\n",
    "y = df[target]\n",
    "\n",
    "# Split the data into training and testing sets\n",
    "X_train, X_test, y_train, y_test = train_test_split(X, y, test_size=0.2, random_state=42)\n",
    "\n",
    "# Train the model\n",
    "model = RandomForestClassifier(n_estimators=100, random_state=42)\n",
    "model.fit(X_train, y_train)\n",
    "\n",
    "# Evaluate the model\n",
    "y_pred = model.predict(X_test)\n",
    "print(\"Accuracy:\", accuracy_score(y_test, y_pred))\n",
    "print(\"Confusion Matrix:\\n\", confusion_matrix(y_test, y_pred))\n",
    "print(\"Classification Report:\\n\", classification_report(y_test, y_pred))\n",
    "\n",
    "# Save the model using pickle\n",
    "model_filename = 's_prediction_model.pkl'\n",
    "with open(model_filename, 'wb') as file:\n",
    "    pickle.dump(model, file)\n",
    "\n",
    "# Load the model from the file\n",
    "with open(model_filename, 'rb') as file:\n",
    "    loaded_model = pickle.load(file)\n"
   ]
  },
  {
   "cell_type": "code",
   "execution_count": 9,
   "id": "d847eb4b-bb04-43ee-81b8-0b387ffba6f4",
   "metadata": {},
   "outputs": [
    {
     "name": "stdout",
     "output_type": "stream",
     "text": [
      "Predicted Stroke: 0\n",
      "Prediction Probability: [0.77 0.23]\n"
     ]
    }
   ],
   "source": [
    "# Example input values for prediction (these should be numerical values)\n",
    "input_data = {\n",
    "    'gender': 1,  # Male\n",
    "    'age': 81, \n",
    "    'hypertension': 0, \n",
    "    'heart_disease': 0, \n",
    "    'ever_married': 1,  # Yes\n",
    "    'work_type': 3,  # Private\n",
    "    'Residence_type': 1,  # Urban\n",
    "    'avg_glucose_level': 125, \n",
    "    'bmi': 40, \n",
    "    'smoking_status': 2  # formerly smoked\n",
    "}\n",
    "\n",
    "# Convert input data to DataFrame\n",
    "input_df = pd.DataFrame([input_data])\n",
    "\n",
    "# Ensure the feature order matches the training data\n",
    "input_df = input_df[features]\n",
    "\n",
    "# Predict using the loaded model\n",
    "prediction = loaded_model.predict(input_df)\n",
    "prediction_proba = loaded_model.predict_proba(input_df)\n",
    "\n",
    "print(f\"Predicted Stroke: {prediction[0]}\")\n",
    "print(f\"Prediction Probability: {prediction_proba[0]}\")\n"
   ]
  },
  {
   "cell_type": "code",
   "execution_count": null,
   "id": "b09e4db3-ebd4-4f78-952e-b5c74c5df920",
   "metadata": {},
   "outputs": [],
   "source": []
  }
 ],
 "metadata": {
  "kernelspec": {
   "display_name": "Python 3 (ipykernel)",
   "language": "python",
   "name": "python3"
  },
  "language_info": {
   "codemirror_mode": {
    "name": "ipython",
    "version": 3
   },
   "file_extension": ".py",
   "mimetype": "text/x-python",
   "name": "python",
   "nbconvert_exporter": "python",
   "pygments_lexer": "ipython3",
   "version": "3.11.7"
  }
 },
 "nbformat": 4,
 "nbformat_minor": 5
}
